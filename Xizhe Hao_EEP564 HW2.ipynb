{
  "cells": [
    {
      "cell_type": "markdown",
      "metadata": {
        "id": "kxzequ8BD_TS"
      },
      "source": [
        "## Import Libraries"
      ]
    },
    {
      "cell_type": "code",
      "execution_count": null,
      "metadata": {
        "id": "9N_3flRvD_TT"
      },
      "outputs": [],
      "source": [
        "import os\n",
        "import json\n",
        "import numpy as np\n",
        "import matplotlib.pyplot as plt\n",
        "import random\n",
        "import tensorflow as tf\n",
        "from tensorflow import keras\n",
        "from tensorflow.keras import layers\n",
        "from sklearn.model_selection import train_test_split\n",
        "from sklearn.metrics import classification_report\n",
        "import tensorflow.keras as keras\n",
        "\n",
        "# Constants\n",
        "CANVAS_SIZE = 28  # Output rasterized image size (28x28)\n",
        "NUM_EXAMPLES_PER_DIGIT = 30\n",
        "NUM_CLASSES = 10  # Digits 0-9"
      ]
    },
    {
      "cell_type": "markdown",
      "metadata": {
        "id": "TtfjupmVD_TT"
      },
      "source": [
        "## Data Loading and Preparation\n",
        "\n",
        "First, we need to extract and parse the JSON files from the dataset."
      ]
    },
    {
      "cell_type": "code",
      "execution_count": null,
      "metadata": {
        "colab": {
          "base_uri": "https://localhost:8080/"
        },
        "id": "LmGPiNj0D_TT",
        "outputId": "634c5799-a5e6-4dce-d230-70b4eabe1300"
      },
      "outputs": [
        {
          "output_type": "stream",
          "name": "stdout",
          "text": [
            "Archive:  /content/EEP564_HW2_Data.zip\n",
            "replace /content/EEP564_HW2_Data/AaronSong-0.json? [y]es, [n]o, [A]ll, [N]one, [r]ename: A\n",
            "  inflating: /content/EEP564_HW2_Data/AaronSong-0.json  \n",
            "  inflating: /content/EEP564_HW2_Data/AaronSong-1.json  \n",
            "  inflating: /content/EEP564_HW2_Data/AaronSong-2.json  \n",
            "  inflating: /content/EEP564_HW2_Data/AaronSong-3.json  \n",
            "  inflating: /content/EEP564_HW2_Data/AaronSong-4.json  \n",
            "  inflating: /content/EEP564_HW2_Data/AaronSong-5.json  \n",
            "  inflating: /content/EEP564_HW2_Data/AaronSong-6.json  \n",
            "  inflating: /content/EEP564_HW2_Data/AaronSong-7.json  \n",
            "  inflating: /content/EEP564_HW2_Data/AaronSong-8.json  \n",
            "  inflating: /content/EEP564_HW2_Data/AaronSong-9.json  \n",
            "  inflating: /content/EEP564_HW2_Data/Anchor-0.json  \n",
            "  inflating: /content/EEP564_HW2_Data/Anchor-1.json  \n",
            "  inflating: /content/EEP564_HW2_Data/Anchor-2.json  \n",
            "  inflating: /content/EEP564_HW2_Data/Anchor-3.json  \n",
            "  inflating: /content/EEP564_HW2_Data/Anchor-4.json  \n",
            "  inflating: /content/EEP564_HW2_Data/Anchor-5.json  \n",
            "  inflating: /content/EEP564_HW2_Data/Anchor-6.json  \n",
            "  inflating: /content/EEP564_HW2_Data/Anchor-7.json  \n",
            "  inflating: /content/EEP564_HW2_Data/Anchor-8.json  \n",
            "  inflating: /content/EEP564_HW2_Data/Anchor-9.json  \n",
            "  inflating: /content/EEP564_HW2_Data/Dorothy-0.json  \n",
            "  inflating: /content/EEP564_HW2_Data/Dorothy-1.json  \n",
            "  inflating: /content/EEP564_HW2_Data/Dorothy-2.json  \n",
            "  inflating: /content/EEP564_HW2_Data/Dorothy-3.json  \n",
            "  inflating: /content/EEP564_HW2_Data/Dorothy-4.json  \n",
            "  inflating: /content/EEP564_HW2_Data/Dorothy-5.json  \n",
            "  inflating: /content/EEP564_HW2_Data/Dorothy-6.json  \n",
            "  inflating: /content/EEP564_HW2_Data/Dorothy-7.json  \n",
            "  inflating: /content/EEP564_HW2_Data/Dorothy-8.json  \n",
            "  inflating: /content/EEP564_HW2_Data/Dorothy-9.json  \n",
            "  inflating: /content/EEP564_HW2_Data/Eyan-0.json  \n",
            "  inflating: /content/EEP564_HW2_Data/Eyan-1.json  \n",
            "  inflating: /content/EEP564_HW2_Data/Eyan-2.json  \n",
            "  inflating: /content/EEP564_HW2_Data/Eyan-3.json  \n",
            "  inflating: /content/EEP564_HW2_Data/Eyan-4.json  \n",
            "  inflating: /content/EEP564_HW2_Data/Eyan-5.json  \n",
            "  inflating: /content/EEP564_HW2_Data/Eyan-6.json  \n",
            "  inflating: /content/EEP564_HW2_Data/Eyan-7.json  \n",
            "  inflating: /content/EEP564_HW2_Data/Eyan-8.json  \n",
            "  inflating: /content/EEP564_HW2_Data/Eyan-9.json  \n",
            "  inflating: /content/EEP564_HW2_Data/hsin-0.json  \n",
            "  inflating: /content/EEP564_HW2_Data/hsin-1.json  \n",
            "  inflating: /content/EEP564_HW2_Data/hsin-2.json  \n",
            "  inflating: /content/EEP564_HW2_Data/hsin-3.json  \n",
            "  inflating: /content/EEP564_HW2_Data/hsin-4.json  \n",
            "  inflating: /content/EEP564_HW2_Data/hsin-5.json  \n",
            "  inflating: /content/EEP564_HW2_Data/hsin-6.json  \n",
            "  inflating: /content/EEP564_HW2_Data/hsin-7.json  \n",
            "  inflating: /content/EEP564_HW2_Data/hsin-8.json  \n",
            "  inflating: /content/EEP564_HW2_Data/hsin-9.json  \n",
            "  inflating: /content/EEP564_HW2_Data/JiaxinZhang-0.json  \n",
            "  inflating: /content/EEP564_HW2_Data/JiaxinZhang-1.json  \n",
            "  inflating: /content/EEP564_HW2_Data/JiaxinZhang-2.json  \n",
            "  inflating: /content/EEP564_HW2_Data/JiaxinZhang-3.json  \n",
            "  inflating: /content/EEP564_HW2_Data/JiaxinZhang-4.json  \n",
            "  inflating: /content/EEP564_HW2_Data/JiaxinZhang-5.json  \n",
            " extracting: /content/EEP564_HW2_Data/JiaxinZhang-6.json  \n",
            "  inflating: /content/EEP564_HW2_Data/JiaxinZhang-7.json  \n",
            "  inflating: /content/EEP564_HW2_Data/JiaxinZhang-8.json  \n",
            "  inflating: /content/EEP564_HW2_Data/JiaxinZhang-9.json  \n",
            "  inflating: /content/EEP564_HW2_Data/Junfeng-0.json  \n",
            "  inflating: /content/EEP564_HW2_Data/Junfeng-1.json  \n",
            "  inflating: /content/EEP564_HW2_Data/Junfeng-2.json  \n",
            "  inflating: /content/EEP564_HW2_Data/Junfeng-3.json  \n",
            "  inflating: /content/EEP564_HW2_Data/Junfeng-4.json  \n",
            "  inflating: /content/EEP564_HW2_Data/Junfeng-5.json  \n",
            "  inflating: /content/EEP564_HW2_Data/Junfeng-6.json  \n",
            "  inflating: /content/EEP564_HW2_Data/Junfeng-7.json  \n",
            "  inflating: /content/EEP564_HW2_Data/Junfeng-8.json  \n",
            "  inflating: /content/EEP564_HW2_Data/Junfeng-9.json  \n",
            "  inflating: /content/EEP564_HW2_Data/KunYang-0.json  \n",
            "  inflating: /content/EEP564_HW2_Data/KunYang-1.json  \n",
            "  inflating: /content/EEP564_HW2_Data/KunYang-2.json  \n",
            "  inflating: /content/EEP564_HW2_Data/KunYang-3.json  \n",
            "  inflating: /content/EEP564_HW2_Data/KunYang-4.json  \n",
            "  inflating: /content/EEP564_HW2_Data/KunYang-5.json  \n",
            "  inflating: /content/EEP564_HW2_Data/KunYang-6.json  \n",
            "  inflating: /content/EEP564_HW2_Data/KunYang-7.json  \n",
            "  inflating: /content/EEP564_HW2_Data/KunYang-8.json  \n",
            "  inflating: /content/EEP564_HW2_Data/KunYang-9.json  \n",
            "  inflating: /content/EEP564_HW2_Data/yirulin-0.json  \n",
            "  inflating: /content/EEP564_HW2_Data/yirulin-1.json  \n",
            "  inflating: /content/EEP564_HW2_Data/yirulin-2.json  \n",
            "  inflating: /content/EEP564_HW2_Data/yirulin-3.json  \n",
            "  inflating: /content/EEP564_HW2_Data/yirulin-4.json  \n",
            "  inflating: /content/EEP564_HW2_Data/yirulin-5.json  \n",
            "  inflating: /content/EEP564_HW2_Data/yirulin-6.json  \n",
            "  inflating: /content/EEP564_HW2_Data/yirulin-7.json  \n",
            "  inflating: /content/EEP564_HW2_Data/yirulin-8.json  \n",
            "  inflating: /content/EEP564_HW2_Data/yirulin-9.json  \n",
            "  inflating: /content/EEP564_HW2_Data/Zeyuan_Zhao-0.json  \n",
            "  inflating: /content/EEP564_HW2_Data/Zeyuan_Zhao-1.json  \n",
            "  inflating: /content/EEP564_HW2_Data/Zeyuan_Zhao-2.json  \n",
            "  inflating: /content/EEP564_HW2_Data/Zeyuan_Zhao-3.json  \n",
            "  inflating: /content/EEP564_HW2_Data/Zeyuan_Zhao-4.json  \n",
            "  inflating: /content/EEP564_HW2_Data/Zeyuan_Zhao-5.json  \n",
            "  inflating: /content/EEP564_HW2_Data/Zeyuan_Zhao-6.json  \n",
            "  inflating: /content/EEP564_HW2_Data/Zeyuan_Zhao-7.json  \n",
            "  inflating: /content/EEP564_HW2_Data/Zeyuan_Zhao-8.json  \n",
            "  inflating: /content/EEP564_HW2_Data/Zeyuan_Zhao-9.json  \n"
          ]
        }
      ],
      "source": [
        "# Set this to data directory\n",
        "\n",
        "!unzip /content/EEP564_HW2_Data.zip -d /content/\n",
        "DATA_DIR = \"./EEP564_HW2_Data\"\n",
        "\n",
        "def load_and_parse_json_files():\n",
        "    \"\"\"\n",
        "    Load and parse all JSON files in the data directory.\n",
        "    Returns a dictionary with digit labels as keys and lists of examples as values.\n",
        "    \"\"\"\n",
        "    digit_examples = {str(i): [] for i in range(10)}\n",
        "\n",
        "    # List all JSON files in the data directory\n",
        "    json_files = [f for f in os.listdir(DATA_DIR) if f.endswith('.json')]\n",
        "\n",
        "    for json_file in json_files:\n",
        "        file_path = os.path.join(DATA_DIR, json_file)\n",
        "\n",
        "        try:\n",
        "            with open(file_path, 'r') as f:\n",
        "                data = json.load(f)\n",
        "\n",
        "                # Each file is a dictionary with a 'strokes' key\n",
        "                # The 'strokes' key contains a list of examples\n",
        "                if 'strokes' in data and isinstance(data['strokes'], list):\n",
        "                    for example in data['strokes']:\n",
        "                        if isinstance(example, dict):\n",
        "                            label = example.get('label')\n",
        "                            stroke_points = example.get('strokePoints', [])\n",
        "\n",
        "                            if label is not None and stroke_points and label in digit_examples:\n",
        "                                digit_examples[label].append(stroke_points)\n",
        "        except Exception as e:\n",
        "            print(f\"Error processing file {json_file}: {e}\")\n",
        "\n",
        "    # Print statistics about the dataset\n",
        "    for digit, examples in digit_examples.items():\n",
        "        print(f\"Digit {digit}: {len(examples)} examples\")\n",
        "\n",
        "    return digit_examples"
      ]
    },
    {
      "cell_type": "markdown",
      "metadata": {
        "id": "Ko4dleVUD_TT"
      },
      "source": [
        "## Rasterization Function\n",
        "\n",
        "This function converts stroke points to rasterized images."
      ]
    },
    {
      "cell_type": "code",
      "source": [],
      "metadata": {
        "id": "-Z_PtEoGFHrn"
      },
      "execution_count": null,
      "outputs": []
    },
    {
      "cell_type": "code",
      "execution_count": null,
      "metadata": {
        "id": "yG5CUF2ED_TU"
      },
      "outputs": [],
      "source": [
        "def rasterize_stroke_points(stroke_points, canvas_size=CANVAS_SIZE):\n",
        "    \"\"\"\n",
        "    Convert stroke points to a rasterized image.\n",
        "\n",
        "    Args:\n",
        "        stroke_points: List of (x, y) coordinates\n",
        "        canvas_size: Size of the output canvas (square)\n",
        "\n",
        "    Returns:\n",
        "        A numpy array of shape (canvas_size, canvas_size) with the rasterized digit\n",
        "    \"\"\"\n",
        "    # Create an empty canvas\n",
        "    canvas = np.zeros((canvas_size, canvas_size), dtype=np.float32)\n",
        "\n",
        "    # Normalize coordinates to canvas size\n",
        "    # The original coordinates are in range [-1, 1], we need to map to [0, canvas_size-1]\n",
        "    for point in stroke_points:\n",
        "        x, y = point['x'], point['y']\n",
        "\n",
        "        # Map from [-1, 1] to [0, canvas_size-1]\n",
        "        pixel_x = int((x + 1) * (canvas_size - 1) / 2)\n",
        "        pixel_y = int((y + 1) * (canvas_size - 1) / 2)\n",
        "\n",
        "        # Ensure coordinates are within canvas bounds\n",
        "        pixel_x = max(0, min(pixel_x, canvas_size - 1))\n",
        "        pixel_y = max(0, min(pixel_y, canvas_size - 1))\n",
        "\n",
        "        # Set the pixel value to 1 (white)\n",
        "        canvas[pixel_y, pixel_x] = 1.0\n",
        "\n",
        "    return canvas"
      ]
    },
    {
      "cell_type": "markdown",
      "metadata": {
        "id": "wjX0sGnnD_TU"
      },
      "source": [
        "## Dataset Preparation\n",
        "\n",
        "Prepare a dataset with 30 examples per digit (0-9)."
      ]
    },
    {
      "cell_type": "code",
      "execution_count": null,
      "metadata": {
        "colab": {
          "base_uri": "https://localhost:8080/"
        },
        "id": "8evRQeG9D_TU",
        "outputId": "27d524ed-5f36-4632-9d5f-23c28cb74c8b"
      },
      "outputs": [
        {
          "output_type": "stream",
          "name": "stdout",
          "text": [
            "Preparing dataset...\n",
            "Digit 0: 24 examples\n",
            "Digit 1: 23 examples\n",
            "Digit 2: 18 examples\n",
            "Digit 3: 19 examples\n",
            "Digit 4: 17 examples\n",
            "Digit 5: 20 examples\n",
            "Digit 6: 21 examples\n",
            "Digit 7: 20 examples\n",
            "Digit 8: 20 examples\n",
            "Digit 9: 21 examples\n",
            "Warning: Only 24 examples found for digit 0. Need 30.\n",
            "Warning: Only 23 examples found for digit 1. Need 30.\n",
            "Warning: Only 18 examples found for digit 2. Need 30.\n",
            "Warning: Only 19 examples found for digit 3. Need 30.\n",
            "Warning: Only 17 examples found for digit 4. Need 30.\n",
            "Warning: Only 20 examples found for digit 5. Need 30.\n",
            "Warning: Only 21 examples found for digit 6. Need 30.\n",
            "Warning: Only 20 examples found for digit 7. Need 30.\n",
            "Warning: Only 20 examples found for digit 8. Need 30.\n",
            "Warning: Only 21 examples found for digit 9. Need 30.\n",
            "Dataset prepared: (300, 28, 28, 1), (300, 10)\n"
          ]
        }
      ],
      "source": [
        "def prepare_dataset():\n",
        "    \"\"\"\n",
        "    Prepare a dataset with 30 examples per digit (0-9).\n",
        "\n",
        "    Returns:\n",
        "        X: numpy array of shape (300, 28, 28, 1) - rasterized images\n",
        "        y: numpy array of shape (300, 10) - one-hot encoded labels\n",
        "    \"\"\"\n",
        "    # Load and parse JSON files\n",
        "    digit_examples = load_and_parse_json_files()\n",
        "\n",
        "    # Prepare arrays for data and labels\n",
        "    X = []\n",
        "    y = []\n",
        "\n",
        "    # For each digit (0-9)\n",
        "    for digit in range(10):\n",
        "        digit_str = str(digit)\n",
        "        examples = digit_examples.get(digit_str, [])\n",
        "\n",
        "        # Ensure we have at least 30 examples per digit\n",
        "        if len(examples) < NUM_EXAMPLES_PER_DIGIT:\n",
        "            print(f\"Warning: Only {len(examples)} examples found for digit {digit}. Need {NUM_EXAMPLES_PER_DIGIT}.\")\n",
        "            # If we don't have enough examples, we'll use what we have and duplicate some\n",
        "            if len(examples) > 0:  # Avoid division by zero\n",
        "                examples = examples * (NUM_EXAMPLES_PER_DIGIT // len(examples) + 1)\n",
        "            else:\n",
        "                print(f\"Error: No examples found for digit {digit}. Skipping.\")\n",
        "                continue\n",
        "\n",
        "        # Select 30 examples for this digit\n",
        "        selected_examples = examples[:NUM_EXAMPLES_PER_DIGIT]\n",
        "\n",
        "        # Rasterize each example and add to dataset\n",
        "        for example in selected_examples:\n",
        "            rasterized = rasterize_stroke_points(example)\n",
        "            X.append(rasterized)\n",
        "            y.append(digit)\n",
        "\n",
        "    # Convert to numpy arrays\n",
        "    X = np.array(X)\n",
        "    y = np.array(y)\n",
        "\n",
        "    # Reshape X to include channel dimension: (300, 28, 28) -> (300, 28, 28, 1)\n",
        "    X = X.reshape(-1, CANVAS_SIZE, CANVAS_SIZE, 1)\n",
        "\n",
        "    # Convert labels to one-hot encoding (categorical) to match the model's output\n",
        "    y_categorical = tf.keras.utils.to_categorical(y, num_classes=NUM_CLASSES)\n",
        "\n",
        "    return X, y_categorical\n",
        "\n",
        "# Prepare the dataset\n",
        "print(\"Preparing dataset...\")\n",
        "X, y = prepare_dataset()\n",
        "print(f\"Dataset prepared: {X.shape}, {y.shape}\")"
      ]
    },
    {
      "cell_type": "markdown",
      "metadata": {
        "id": "H7nd9pqBD_TU"
      },
      "source": [
        "## Visualization\n",
        "\n",
        "Randomly select 1 example per class (0-9) and visualize them."
      ]
    },
    {
      "cell_type": "code",
      "execution_count": null,
      "metadata": {
        "colab": {
          "base_uri": "https://localhost:8080/",
          "height": 628
        },
        "id": "J5AdGtkMD_TU",
        "outputId": "dd47f32c-5a5c-4890-ada4-d7daadf801fd"
      },
      "outputs": [
        {
          "output_type": "stream",
          "name": "stdout",
          "text": [
            "Visualizing examples...\n"
          ]
        },
        {
          "output_type": "display_data",
          "data": {
            "text/plain": [
              "<Figure size 1500x600 with 10 Axes>"
            ],
            "image/png": "[encoded data removed]"
          },
          "metadata": {}
        }
      ],
      "source": [
        "def visualize_examples(X, y):\n",
        "    \"\"\"\n",
        "    Randomly select 1 example per class (0-9) and visualize them.\n",
        "\n",
        "    Args:\n",
        "        X: numpy array of shape (n_samples, 28, 28, 1) - rasterized images\n",
        "        y: numpy array of shape (n_samples, 10) - one-hot encoded labels\n",
        "    \"\"\"\n",
        "    # Convert one-hot encoded labels back to integers for easier handling\n",
        "    y_indices = np.argmax(y, axis=1)\n",
        "\n",
        "    # Create a figure with 10 subplots (1 per digit)\n",
        "    fig, axes = plt.subplots(2, 5, figsize=(15, 6))\n",
        "    axes = axes.flatten()\n",
        "\n",
        "    # For each digit (0-9)\n",
        "    for digit in range(10):\n",
        "        # Find all examples of this digit\n",
        "        digit_indices = np.where(y_indices == digit)[0]\n",
        "\n",
        "        if len(digit_indices) == 0:\n",
        "            print(f\"Warning: No examples found for digit {digit}. Skipping visualization.\")\n",
        "            axes[digit].text(0.5, 0.5, f\"No examples for digit {digit}\",\n",
        "                            horizontalalignment='center', verticalalignment='center')\n",
        "            axes[digit].set_title(f'Digit: {digit} (missing)')\n",
        "            axes[digit].axis('off')\n",
        "            continue\n",
        "\n",
        "        # Convert numpy array to list for random.choice\n",
        "        digit_indices_list = digit_indices.tolist()\n",
        "\n",
        "        # Randomly select one example\n",
        "        random_idx = random.choice(digit_indices_list)\n",
        "\n",
        "        # Get the image\n",
        "        img = X[random_idx, :, :, 0]  # Remove channel dimension\n",
        "\n",
        "        # Plot the image\n",
        "        axes[digit].imshow(img, cmap='gray')\n",
        "        axes[digit].set_title(f'Digit: {digit}')\n",
        "        axes[digit].axis('off')\n",
        "\n",
        "    plt.tight_layout()\n",
        "    plt.show()\n",
        "\n",
        "# Visualize examples\n",
        "print(\"Visualizing examples...\")\n",
        "visualize_examples(X, y)"
      ]
    },
    {
      "cell_type": "markdown",
      "metadata": {
        "id": "nmnmNRa8D_TU"
      },
      "source": [
        "## Model Architecture\n",
        "\n",
        "Define the model architecture as in Lab 6."
      ]
    },
    {
      "cell_type": "code",
      "execution_count": null,
      "metadata": {
        "id": "gw5JEg62D_TU"
      },
      "outputs": [],
      "source": [
        "def make_model(input_shape, num_classes):\n",
        "    \"\"\"\n",
        "    Create the model architecture as defined in Lab 6.\n",
        "\n",
        "    Args:\n",
        "        input_shape: Shape of the input images\n",
        "        num_classes: Number of output classes\n",
        "\n",
        "    Returns:\n",
        "        A Keras model\n",
        "    \"\"\"\n",
        "    inputs = keras.Input(shape=input_shape)\n",
        "\n",
        "    # Entry block\n",
        "    x = layers.Rescaling(1.0 / 255)(inputs)\n",
        "    x = layers.Conv2D(16, 3, strides=2, padding=\"same\")(x)\n",
        "    x = layers.BatchNormalization()(x)\n",
        "    x = layers.Activation(\"relu\")(x)\n",
        "    x = layers.Dropout(0.5)(x)\n",
        "\n",
        "    x = layers.Conv2D(32, 3, strides=2, padding=\"same\")(x)\n",
        "    x = layers.BatchNormalization()(x)\n",
        "    x = layers.Activation(\"relu\")(x)\n",
        "    x = layers.Dropout(0.5)(x)\n",
        "\n",
        "    x = layers.Conv2D(64, 3, strides=2, padding=\"same\")(x)\n",
        "    x = layers.BatchNormalization()(x)\n",
        "    x = layers.Activation(\"relu\")(x)\n",
        "    x = layers.Dropout(0.5)(x)\n",
        "\n",
        "    x = layers.GlobalAveragePooling2D()(x)\n",
        "    activation = \"softmax\"\n",
        "    units = num_classes\n",
        "\n",
        "    x = layers.Dropout(0.5)(x)\n",
        "    outputs = layers.Dense(units, activation=activation)(x)\n",
        "    return keras.Model(inputs, outputs)"
      ]
    },
    {
      "cell_type": "markdown",
      "metadata": {
        "id": "1rlzCnTCD_TU"
      },
      "source": [
        "## Load and Fine-tune Model\n",
        "\n",
        "Load the model from Lab 6 (or create a new one with the same architecture if not available), freeze all layers except the final Dense layer, and fine-tune it on our dataset."
      ]
    },
    {
      "cell_type": "code",
      "execution_count": null,
      "metadata": {
        "colab": {
          "base_uri": "https://localhost:8080/",
          "height": 1000
        },
        "id": "yk0gLgPfD_TU",
        "outputId": "e41d09e8-4a70-41e5-81d8-9a04b3517dd9"
      },
      "outputs": [
        {
          "output_type": "stream",
          "name": "stdout",
          "text": [
            "Loading and fine-tuning model...\n",
            "Warning: model.keras not found. Creating a new model with the Lab 6 architecture.\n"
          ]
        },
        {
          "output_type": "display_data",
          "data": {
            "text/plain": [
              "\u001b[1mModel: \"functional_1\"\u001b[0m\n"
            ],
            "text/html": [
              "<pre style=\"white-space:pre;overflow-x:auto;line-height:normal;font-family:Menlo,'DejaVu Sans Mono',consolas,'Courier New',monospace\"><span style=\"font-weight: bold\">Model: \"functional_1\"</span>\n",
              "</pre>\n"
            ]
          },
          "metadata": {}
        },
        {
          "output_type": "display_data",
          "data": {
            "text/plain": [
              "┏━━━━━━━━━━━━━━━━━━━━━━━━━━━━━━━━━┳━━━━━━━━━━━━━━━━━━━━━━━━┳━━━━━━━━━━━━━━━┓\n",
              "┃\u001b[1m \u001b[0m\u001b[1mLayer (type)                   \u001b[0m\u001b[1m \u001b[0m┃\u001b[1m \u001b[0m\u001b[1mOutput Shape          \u001b[0m\u001b[1m \u001b[0m┃\u001b[1m \u001b[0m\u001b[1m      Param #\u001b[0m\u001b[1m \u001b[0m┃\n",
              "┡━━━━━━━━━━━━━━━━━━━━━━━━━━━━━━━━━╇━━━━━━━━━━━━━━━━━━━━━━━━╇━━━━━━━━━━━━━━━┩\n",
              "│ input_layer_1 (\u001b[38;5;33mInputLayer\u001b[0m)      │ (\u001b[38;5;45mNone\u001b[0m, \u001b[38;5;34m28\u001b[0m, \u001b[38;5;34m28\u001b[0m, \u001b[38;5;34m1\u001b[0m)      │             \u001b[38;5;34m0\u001b[0m │\n",
              "├─────────────────────────────────┼────────────────────────┼───────────────┤\n",
              "│ rescaling_1 (\u001b[38;5;33mRescaling\u001b[0m)         │ (\u001b[38;5;45mNone\u001b[0m, \u001b[38;5;34m28\u001b[0m, \u001b[38;5;34m28\u001b[0m, \u001b[38;5;34m1\u001b[0m)      │             \u001b[38;5;34m0\u001b[0m │\n",
              "├─────────────────────────────────┼────────────────────────┼───────────────┤\n",
              "│ conv2d_3 (\u001b[38;5;33mConv2D\u001b[0m)               │ (\u001b[38;5;45mNone\u001b[0m, \u001b[38;5;34m14\u001b[0m, \u001b[38;5;34m14\u001b[0m, \u001b[38;5;34m16\u001b[0m)     │           \u001b[38;5;34m160\u001b[0m │\n",
              "├─────────────────────────────────┼────────────────────────┼───────────────┤\n",
              "│ batch_normalization_3           │ (\u001b[38;5;45mNone\u001b[0m, \u001b[38;5;34m14\u001b[0m, \u001b[38;5;34m14\u001b[0m, \u001b[38;5;34m16\u001b[0m)     │            \u001b[38;5;34m64\u001b[0m │\n",
              "│ (\u001b[38;5;33mBatchNormalization\u001b[0m)            │                        │               │\n",
              "├─────────────────────────────────┼────────────────────────┼───────────────┤\n",
              "│ activation_3 (\u001b[38;5;33mActivation\u001b[0m)       │ (\u001b[38;5;45mNone\u001b[0m, \u001b[38;5;34m14\u001b[0m, \u001b[38;5;34m14\u001b[0m, \u001b[38;5;34m16\u001b[0m)     │             \u001b[38;5;34m0\u001b[0m │\n",
              "├─────────────────────────────────┼────────────────────────┼───────────────┤\n",
              "│ dropout_4 (\u001b[38;5;33mDropout\u001b[0m)             │ (\u001b[38;5;45mNone\u001b[0m, \u001b[38;5;34m14\u001b[0m, \u001b[38;5;34m14\u001b[0m, \u001b[38;5;34m16\u001b[0m)     │             \u001b[38;5;34m0\u001b[0m │\n",
              "├─────────────────────────────────┼────────────────────────┼───────────────┤\n",
              "│ conv2d_4 (\u001b[38;5;33mConv2D\u001b[0m)               │ (\u001b[38;5;45mNone\u001b[0m, \u001b[38;5;34m7\u001b[0m, \u001b[38;5;34m7\u001b[0m, \u001b[38;5;34m32\u001b[0m)       │         \u001b[38;5;34m4,640\u001b[0m │\n",
              "├─────────────────────────────────┼────────────────────────┼───────────────┤\n",
              "│ batch_normalization_4           │ (\u001b[38;5;45mNone\u001b[0m, \u001b[38;5;34m7\u001b[0m, \u001b[38;5;34m7\u001b[0m, \u001b[38;5;34m32\u001b[0m)       │           \u001b[38;5;34m128\u001b[0m │\n",
              "│ (\u001b[38;5;33mBatchNormalization\u001b[0m)            │                        │               │\n",
              "├─────────────────────────────────┼────────────────────────┼───────────────┤\n",
              "│ activation_4 (\u001b[38;5;33mActivation\u001b[0m)       │ (\u001b[38;5;45mNone\u001b[0m, \u001b[38;5;34m7\u001b[0m, \u001b[38;5;34m7\u001b[0m, \u001b[38;5;34m32\u001b[0m)       │             \u001b[38;5;34m0\u001b[0m │\n",
              "├─────────────────────────────────┼────────────────────────┼───────────────┤\n",
              "│ dropout_5 (\u001b[38;5;33mDropout\u001b[0m)             │ (\u001b[38;5;45mNone\u001b[0m, \u001b[38;5;34m7\u001b[0m, \u001b[38;5;34m7\u001b[0m, \u001b[38;5;34m32\u001b[0m)       │             \u001b[38;5;34m0\u001b[0m │\n",
              "├─────────────────────────────────┼────────────────────────┼───────────────┤\n",
              "│ conv2d_5 (\u001b[38;5;33mConv2D\u001b[0m)               │ (\u001b[38;5;45mNone\u001b[0m, \u001b[38;5;34m4\u001b[0m, \u001b[38;5;34m4\u001b[0m, \u001b[38;5;34m64\u001b[0m)       │        \u001b[38;5;34m18,496\u001b[0m │\n",
              "├─────────────────────────────────┼────────────────────────┼───────────────┤\n",
              "│ batch_normalization_5           │ (\u001b[38;5;45mNone\u001b[0m, \u001b[38;5;34m4\u001b[0m, \u001b[38;5;34m4\u001b[0m, \u001b[38;5;34m64\u001b[0m)       │           \u001b[38;5;34m256\u001b[0m │\n",
              "│ (\u001b[38;5;33mBatchNormalization\u001b[0m)            │                        │               │\n",
              "├─────────────────────────────────┼────────────────────────┼───────────────┤\n",
              "│ activation_5 (\u001b[38;5;33mActivation\u001b[0m)       │ (\u001b[38;5;45mNone\u001b[0m, \u001b[38;5;34m4\u001b[0m, \u001b[38;5;34m4\u001b[0m, \u001b[38;5;34m64\u001b[0m)       │             \u001b[38;5;34m0\u001b[0m │\n",
              "├─────────────────────────────────┼────────────────────────┼───────────────┤\n",
              "│ dropout_6 (\u001b[38;5;33mDropout\u001b[0m)             │ (\u001b[38;5;45mNone\u001b[0m, \u001b[38;5;34m4\u001b[0m, \u001b[38;5;34m4\u001b[0m, \u001b[38;5;34m64\u001b[0m)       │             \u001b[38;5;34m0\u001b[0m │\n",
              "├─────────────────────────────────┼────────────────────────┼───────────────┤\n",
              "│ global_average_pooling2d_1      │ (\u001b[38;5;45mNone\u001b[0m, \u001b[38;5;34m64\u001b[0m)             │             \u001b[38;5;34m0\u001b[0m │\n",
              "│ (\u001b[38;5;33mGlobalAveragePooling2D\u001b[0m)        │                        │               │\n",
              "├─────────────────────────────────┼────────────────────────┼───────────────┤\n",
              "│ dropout_7 (\u001b[38;5;33mDropout\u001b[0m)             │ (\u001b[38;5;45mNone\u001b[0m, \u001b[38;5;34m64\u001b[0m)             │             \u001b[38;5;34m0\u001b[0m │\n",
              "├─────────────────────────────────┼────────────────────────┼───────────────┤\n",
              "│ dense_1 (\u001b[38;5;33mDense\u001b[0m)                 │ (\u001b[38;5;45mNone\u001b[0m, \u001b[38;5;34m10\u001b[0m)             │           \u001b[38;5;34m650\u001b[0m │\n",
              "└─────────────────────────────────┴────────────────────────┴───────────────┘\n"
            ],
            "text/html": [
              "<pre style=\"white-space:pre;overflow-x:auto;line-height:normal;font-family:Menlo,'DejaVu Sans Mono',consolas,'Courier New',monospace\">┏━━━━━━━━━━━━━━━━━━━━━━━━━━━━━━━━━┳━━━━━━━━━━━━━━━━━━━━━━━━┳━━━━━━━━━━━━━━━┓\n",
              "┃<span style=\"font-weight: bold\"> Layer (type)                    </span>┃<span style=\"font-weight: bold\"> Output Shape           </span>┃<span style=\"font-weight: bold\">       Param # </span>┃\n",
              "┡━━━━━━━━━━━━━━━━━━━━━━━━━━━━━━━━━╇━━━━━━━━━━━━━━━━━━━━━━━━╇━━━━━━━━━━━━━━━┩\n",
              "│ input_layer_1 (<span style=\"color: #0087ff; text-decoration-color: #0087ff\">InputLayer</span>)      │ (<span style=\"color: #00d7ff; text-decoration-color: #00d7ff\">None</span>, <span style=\"color: #00af00; text-decoration-color: #00af00\">28</span>, <span style=\"color: #00af00; text-decoration-color: #00af00\">28</span>, <span style=\"color: #00af00; text-decoration-color: #00af00\">1</span>)      │             <span style=\"color: #00af00; text-decoration-color: #00af00\">0</span> │\n",
              "├─────────────────────────────────┼────────────────────────┼───────────────┤\n",
              "│ rescaling_1 (<span style=\"color: #0087ff; text-decoration-color: #0087ff\">Rescaling</span>)         │ (<span style=\"color: #00d7ff; text-decoration-color: #00d7ff\">None</span>, <span style=\"color: #00af00; text-decoration-color: #00af00\">28</span>, <span style=\"color: #00af00; text-decoration-color: #00af00\">28</span>, <span style=\"color: #00af00; text-decoration-color: #00af00\">1</span>)      │             <span style=\"color: #00af00; text-decoration-color: #00af00\">0</span> │\n",
              "├─────────────────────────────────┼────────────────────────┼───────────────┤\n",
              "│ conv2d_3 (<span style=\"color: #0087ff; text-decoration-color: #0087ff\">Conv2D</span>)               │ (<span style=\"color: #00d7ff; text-decoration-color: #00d7ff\">None</span>, <span style=\"color: #00af00; text-decoration-color: #00af00\">14</span>, <span style=\"color: #00af00; text-decoration-color: #00af00\">14</span>, <span style=\"color: #00af00; text-decoration-color: #00af00\">16</span>)     │           <span style=\"color: #00af00; text-decoration-color: #00af00\">160</span> │\n",
              "├─────────────────────────────────┼────────────────────────┼───────────────┤\n",
              "│ batch_normalization_3           │ (<span style=\"color: #00d7ff; text-decoration-color: #00d7ff\">None</span>, <span style=\"color: #00af00; text-decoration-color: #00af00\">14</span>, <span style=\"color: #00af00; text-decoration-color: #00af00\">14</span>, <span style=\"color: #00af00; text-decoration-color: #00af00\">16</span>)     │            <span style=\"color: #00af00; text-decoration-color: #00af00\">64</span> │\n",
              "│ (<span style=\"color: #0087ff; text-decoration-color: #0087ff\">BatchNormalization</span>)            │                        │               │\n",
              "├─────────────────────────────────┼────────────────────────┼───────────────┤\n",
              "│ activation_3 (<span style=\"color: #0087ff; text-decoration-color: #0087ff\">Activation</span>)       │ (<span style=\"color: #00d7ff; text-decoration-color: #00d7ff\">None</span>, <span style=\"color: #00af00; text-decoration-color: #00af00\">14</span>, <span style=\"color: #00af00; text-decoration-color: #00af00\">14</span>, <span style=\"color: #00af00; text-decoration-color: #00af00\">16</span>)     │             <span style=\"color: #00af00; text-decoration-color: #00af00\">0</span> │\n",
              "├─────────────────────────────────┼────────────────────────┼───────────────┤\n",
              "│ dropout_4 (<span style=\"color: #0087ff; text-decoration-color: #0087ff\">Dropout</span>)             │ (<span style=\"color: #00d7ff; text-decoration-color: #00d7ff\">None</span>, <span style=\"color: #00af00; text-decoration-color: #00af00\">14</span>, <span style=\"color: #00af00; text-decoration-color: #00af00\">14</span>, <span style=\"color: #00af00; text-decoration-color: #00af00\">16</span>)     │             <span style=\"color: #00af00; text-decoration-color: #00af00\">0</span> │\n",
              "├─────────────────────────────────┼────────────────────────┼───────────────┤\n",
              "│ conv2d_4 (<span style=\"color: #0087ff; text-decoration-color: #0087ff\">Conv2D</span>)               │ (<span style=\"color: #00d7ff; text-decoration-color: #00d7ff\">None</span>, <span style=\"color: #00af00; text-decoration-color: #00af00\">7</span>, <span style=\"color: #00af00; text-decoration-color: #00af00\">7</span>, <span style=\"color: #00af00; text-decoration-color: #00af00\">32</span>)       │         <span style=\"color: #00af00; text-decoration-color: #00af00\">4,640</span> │\n",
              "├─────────────────────────────────┼────────────────────────┼───────────────┤\n",
              "│ batch_normalization_4           │ (<span style=\"color: #00d7ff; text-decoration-color: #00d7ff\">None</span>, <span style=\"color: #00af00; text-decoration-color: #00af00\">7</span>, <span style=\"color: #00af00; text-decoration-color: #00af00\">7</span>, <span style=\"color: #00af00; text-decoration-color: #00af00\">32</span>)       │           <span style=\"color: #00af00; text-decoration-color: #00af00\">128</span> │\n",
              "│ (<span style=\"color: #0087ff; text-decoration-color: #0087ff\">BatchNormalization</span>)            │                        │               │\n",
              "├─────────────────────────────────┼────────────────────────┼───────────────┤\n",
              "│ activation_4 (<span style=\"color: #0087ff; text-decoration-color: #0087ff\">Activation</span>)       │ (<span style=\"color: #00d7ff; text-decoration-color: #00d7ff\">None</span>, <span style=\"color: #00af00; text-decoration-color: #00af00\">7</span>, <span style=\"color: #00af00; text-decoration-color: #00af00\">7</span>, <span style=\"color: #00af00; text-decoration-color: #00af00\">32</span>)       │             <span style=\"color: #00af00; text-decoration-color: #00af00\">0</span> │\n",
              "├─────────────────────────────────┼────────────────────────┼───────────────┤\n",
              "│ dropout_5 (<span style=\"color: #0087ff; text-decoration-color: #0087ff\">Dropout</span>)             │ (<span style=\"color: #00d7ff; text-decoration-color: #00d7ff\">None</span>, <span style=\"color: #00af00; text-decoration-color: #00af00\">7</span>, <span style=\"color: #00af00; text-decoration-color: #00af00\">7</span>, <span style=\"color: #00af00; text-decoration-color: #00af00\">32</span>)       │             <span style=\"color: #00af00; text-decoration-color: #00af00\">0</span> │\n",
              "├─────────────────────────────────┼────────────────────────┼───────────────┤\n",
              "│ conv2d_5 (<span style=\"color: #0087ff; text-decoration-color: #0087ff\">Conv2D</span>)               │ (<span style=\"color: #00d7ff; text-decoration-color: #00d7ff\">None</span>, <span style=\"color: #00af00; text-decoration-color: #00af00\">4</span>, <span style=\"color: #00af00; text-decoration-color: #00af00\">4</span>, <span style=\"color: #00af00; text-decoration-color: #00af00\">64</span>)       │        <span style=\"color: #00af00; text-decoration-color: #00af00\">18,496</span> │\n",
              "├─────────────────────────────────┼────────────────────────┼───────────────┤\n",
              "│ batch_normalization_5           │ (<span style=\"color: #00d7ff; text-decoration-color: #00d7ff\">None</span>, <span style=\"color: #00af00; text-decoration-color: #00af00\">4</span>, <span style=\"color: #00af00; text-decoration-color: #00af00\">4</span>, <span style=\"color: #00af00; text-decoration-color: #00af00\">64</span>)       │           <span style=\"color: #00af00; text-decoration-color: #00af00\">256</span> │\n",
              "│ (<span style=\"color: #0087ff; text-decoration-color: #0087ff\">BatchNormalization</span>)            │                        │               │\n",
              "├─────────────────────────────────┼────────────────────────┼───────────────┤\n",
              "│ activation_5 (<span style=\"color: #0087ff; text-decoration-color: #0087ff\">Activation</span>)       │ (<span style=\"color: #00d7ff; text-decoration-color: #00d7ff\">None</span>, <span style=\"color: #00af00; text-decoration-color: #00af00\">4</span>, <span style=\"color: #00af00; text-decoration-color: #00af00\">4</span>, <span style=\"color: #00af00; text-decoration-color: #00af00\">64</span>)       │             <span style=\"color: #00af00; text-decoration-color: #00af00\">0</span> │\n",
              "├─────────────────────────────────┼────────────────────────┼───────────────┤\n",
              "│ dropout_6 (<span style=\"color: #0087ff; text-decoration-color: #0087ff\">Dropout</span>)             │ (<span style=\"color: #00d7ff; text-decoration-color: #00d7ff\">None</span>, <span style=\"color: #00af00; text-decoration-color: #00af00\">4</span>, <span style=\"color: #00af00; text-decoration-color: #00af00\">4</span>, <span style=\"color: #00af00; text-decoration-color: #00af00\">64</span>)       │             <span style=\"color: #00af00; text-decoration-color: #00af00\">0</span> │\n",
              "├─────────────────────────────────┼────────────────────────┼───────────────┤\n",
              "│ global_average_pooling2d_1      │ (<span style=\"color: #00d7ff; text-decoration-color: #00d7ff\">None</span>, <span style=\"color: #00af00; text-decoration-color: #00af00\">64</span>)             │             <span style=\"color: #00af00; text-decoration-color: #00af00\">0</span> │\n",
              "│ (<span style=\"color: #0087ff; text-decoration-color: #0087ff\">GlobalAveragePooling2D</span>)        │                        │               │\n",
              "├─────────────────────────────────┼────────────────────────┼───────────────┤\n",
              "│ dropout_7 (<span style=\"color: #0087ff; text-decoration-color: #0087ff\">Dropout</span>)             │ (<span style=\"color: #00d7ff; text-decoration-color: #00d7ff\">None</span>, <span style=\"color: #00af00; text-decoration-color: #00af00\">64</span>)             │             <span style=\"color: #00af00; text-decoration-color: #00af00\">0</span> │\n",
              "├─────────────────────────────────┼────────────────────────┼───────────────┤\n",
              "│ dense_1 (<span style=\"color: #0087ff; text-decoration-color: #0087ff\">Dense</span>)                 │ (<span style=\"color: #00d7ff; text-decoration-color: #00d7ff\">None</span>, <span style=\"color: #00af00; text-decoration-color: #00af00\">10</span>)             │           <span style=\"color: #00af00; text-decoration-color: #00af00\">650</span> │\n",
              "└─────────────────────────────────┴────────────────────────┴───────────────┘\n",
              "</pre>\n"
            ]
          },
          "metadata": {}
        },
        {
          "output_type": "display_data",
          "data": {
            "text/plain": [
              "\u001b[1m Total params: \u001b[0m\u001b[38;5;34m24,394\u001b[0m (95.29 KB)\n"
            ],
            "text/html": [
              "<pre style=\"white-space:pre;overflow-x:auto;line-height:normal;font-family:Menlo,'DejaVu Sans Mono',consolas,'Courier New',monospace\"><span style=\"font-weight: bold\"> Total params: </span><span style=\"color: #00af00; text-decoration-color: #00af00\">24,394</span> (95.29 KB)\n",
              "</pre>\n"
            ]
          },
          "metadata": {}
        },
        {
          "output_type": "display_data",
          "data": {
            "text/plain": [
              "\u001b[1m Trainable params: \u001b[0m\u001b[38;5;34m24,170\u001b[0m (94.41 KB)\n"
            ],
            "text/html": [
              "<pre style=\"white-space:pre;overflow-x:auto;line-height:normal;font-family:Menlo,'DejaVu Sans Mono',consolas,'Courier New',monospace\"><span style=\"font-weight: bold\"> Trainable params: </span><span style=\"color: #00af00; text-decoration-color: #00af00\">24,170</span> (94.41 KB)\n",
              "</pre>\n"
            ]
          },
          "metadata": {}
        },
        {
          "output_type": "display_data",
          "data": {
            "text/plain": [
              "\u001b[1m Non-trainable params: \u001b[0m\u001b[38;5;34m224\u001b[0m (896.00 B)\n"
            ],
            "text/html": [
              "<pre style=\"white-space:pre;overflow-x:auto;line-height:normal;font-family:Menlo,'DejaVu Sans Mono',consolas,'Courier New',monospace\"><span style=\"font-weight: bold\"> Non-trainable params: </span><span style=\"color: #00af00; text-decoration-color: #00af00\">224</span> (896.00 B)\n",
              "</pre>\n"
            ]
          },
          "metadata": {}
        },
        {
          "output_type": "stream",
          "name": "stdout",
          "text": [
            "Epoch 1/10\n",
            "\u001b[1m8/8\u001b[0m \u001b[32m━━━━━━━━━━━━━━━━━━━━\u001b[0m\u001b[37m\u001b[0m \u001b[1m2s\u001b[0m 66ms/step - accuracy: 0.0750 - loss: 2.3026 - val_accuracy: 0.0500 - val_loss: 2.3040\n",
            "Epoch 2/10\n",
            "\u001b[1m8/8\u001b[0m \u001b[32m━━━━━━━━━━━━━━━━━━━━\u001b[0m\u001b[37m\u001b[0m \u001b[1m0s\u001b[0m 16ms/step - accuracy: 0.1133 - loss: 2.3025 - val_accuracy: 0.0333 - val_loss: 2.3045\n",
            "Epoch 3/10\n",
            "\u001b[1m8/8\u001b[0m \u001b[32m━━━━━━━━━━━━━━━━━━━━\u001b[0m\u001b[37m\u001b[0m \u001b[1m0s\u001b[0m 17ms/step - accuracy: 0.1414 - loss: 2.3018 - val_accuracy: 0.0333 - val_loss: 2.3053\n",
            "Epoch 4/10\n",
            "\u001b[1m8/8\u001b[0m \u001b[32m━━━━━━━━━━━━━━━━━━━━\u001b[0m\u001b[37m\u001b[0m \u001b[1m0s\u001b[0m 17ms/step - accuracy: 0.1260 - loss: 2.3014 - val_accuracy: 0.0333 - val_loss: 2.3061\n",
            "Epoch 5/10\n",
            "\u001b[1m8/8\u001b[0m \u001b[32m━━━━━━━━━━━━━━━━━━━━\u001b[0m\u001b[37m\u001b[0m \u001b[1m0s\u001b[0m 16ms/step - accuracy: 0.1130 - loss: 2.3023 - val_accuracy: 0.0333 - val_loss: 2.3068\n",
            "Epoch 6/10\n",
            "\u001b[1m8/8\u001b[0m \u001b[32m━━━━━━━━━━━━━━━━━━━━\u001b[0m\u001b[37m\u001b[0m \u001b[1m0s\u001b[0m 18ms/step - accuracy: 0.1069 - loss: 2.3016 - val_accuracy: 0.0333 - val_loss: 2.3075\n",
            "Epoch 7/10\n",
            "\u001b[1m8/8\u001b[0m \u001b[32m━━━━━━━━━━━━━━━━━━━━\u001b[0m\u001b[37m\u001b[0m \u001b[1m0s\u001b[0m 16ms/step - accuracy: 0.1425 - loss: 2.3006 - val_accuracy: 0.0333 - val_loss: 2.3084\n",
            "Epoch 8/10\n",
            "\u001b[1m8/8\u001b[0m \u001b[32m━━━━━━━━━━━━━━━━━━━━\u001b[0m\u001b[37m\u001b[0m \u001b[1m0s\u001b[0m 17ms/step - accuracy: 0.1032 - loss: 2.3017 - val_accuracy: 0.0333 - val_loss: 2.3089\n",
            "Epoch 9/10\n",
            "\u001b[1m8/8\u001b[0m \u001b[32m━━━━━━━━━━━━━━━━━━━━\u001b[0m\u001b[37m\u001b[0m \u001b[1m0s\u001b[0m 16ms/step - accuracy: 0.1189 - loss: 2.3009 - val_accuracy: 0.0333 - val_loss: 2.3097\n",
            "Epoch 10/10\n",
            "\u001b[1m8/8\u001b[0m \u001b[32m━━━━━━━━━━━━━━━━━━━━\u001b[0m\u001b[37m\u001b[0m \u001b[1m0s\u001b[0m 22ms/step - accuracy: 0.1126 - loss: 2.3005 - val_accuracy: 0.0333 - val_loss: 2.3104\n"
          ]
        }
      ],
      "source": [
        "def load_and_fine_tune_model(X, y):\n",
        "    \"\"\"\n",
        "    Load the model from Lab 6, freeze all layers except the final Dense layer,\n",
        "    and fine-tune it on the dataset.\n",
        "\n",
        "    Args:\n",
        "        X: numpy array of shape (n_samples, 28, 28, 1) - rasterized images\n",
        "        y: numpy array of shape (n_samples, 10) - one-hot encoded labels\n",
        "\n",
        "    Returns:\n",
        "        The fine-tuned model\n",
        "    \"\"\"\n",
        "    try:\n",
        "        # Try to load the saved model from Lab 6\n",
        "        model = keras.models.load_model('model.keras')\n",
        "        print(\"Successfully loaded model.keras from Lab 6\")\n",
        "    except:\n",
        "        # If the model file is not found, create a new model with the same architecture\n",
        "        print(\"Warning: model.keras not found. Creating a new model with the Lab 6 architecture.\")\n",
        "        model = make_model(input_shape=(28, 28, 1), num_classes=10)\n",
        "        model.compile(\n",
        "            optimizer=\"adam\",\n",
        "            loss=\"categorical_crossentropy\",\n",
        "            metrics=[\"accuracy\"]\n",
        "        )\n",
        "\n",
        "    # Print model summary\n",
        "    model.summary()\n",
        "\n",
        "    # Freeze all layers except the final Dense layer\n",
        "    for layer in model.layers[:-1]:\n",
        "        layer.trainable = False\n",
        "\n",
        "    # Ensure the final layer is trainable\n",
        "    model.layers[-1].trainable = True\n",
        "\n",
        "    # Compile the model\n",
        "    model.compile(\n",
        "        optimizer=\"adam\",\n",
        "        loss=\"categorical_crossentropy\",\n",
        "        metrics=[\"accuracy\"]\n",
        "    )\n",
        "\n",
        "    # Split the data into training and validation sets\n",
        "    X_train, X_val, y_train, y_val = train_test_split(X, y, test_size=0.2, random_state=42)\n",
        "\n",
        "    # Fine-tune the model\n",
        "    history = model.fit(\n",
        "        X_train, y_train,\n",
        "        epochs=10,\n",
        "        batch_size=32,\n",
        "        validation_data=(X_val, y_val)\n",
        "    )\n",
        "\n",
        "    return model\n",
        "\n",
        "# Load and fine-tune the model\n",
        "print(\"Loading and fine-tuning model...\")\n",
        "model = load_and_fine_tune_model(X, y)"
      ]
    },
    {
      "cell_type": "markdown",
      "metadata": {
        "id": "O0HVaAWjD_TU"
      },
      "source": [
        "## Evaluate Model\n",
        "\n",
        "Evaluate the fine-tuned model and generate a classification report."
      ]
    },
    {
      "cell_type": "code",
      "execution_count": null,
      "metadata": {
        "colab": {
          "base_uri": "https://localhost:8080/"
        },
        "id": "iuyoyRLGD_TU",
        "outputId": "1eed5d62-0837-4c79-c0a0-c516f8ee7a9a"
      },
      "outputs": [
        {
          "output_type": "stream",
          "name": "stdout",
          "text": [
            "Evaluating model...\n",
            "\u001b[1m10/10\u001b[0m \u001b[32m━━━━━━━━━━━━━━━━━━━━\u001b[0m\u001b[37m\u001b[0m \u001b[1m0s\u001b[0m 26ms/step\n",
            "              precision    recall  f1-score   support\n",
            "\n",
            "           0       0.00      0.00      0.00        30\n",
            "           1       0.00      0.00      0.00        30\n",
            "           2       0.00      0.00      0.00        30\n",
            "           3       0.00      0.00      0.00        30\n",
            "           4       0.10      1.00      0.18        30\n",
            "           5       0.00      0.00      0.00        30\n",
            "           6       0.00      0.00      0.00        30\n",
            "           7       0.00      0.00      0.00        30\n",
            "           8       0.00      0.00      0.00        30\n",
            "           9       0.00      0.00      0.00        30\n",
            "\n",
            "    accuracy                           0.10       300\n",
            "   macro avg       0.01      0.10      0.02       300\n",
            "weighted avg       0.01      0.10      0.02       300\n",
            "\n"
          ]
        },
        {
          "output_type": "stream",
          "name": "stderr",
          "text": [
            "/usr/local/lib/python3.11/dist-packages/sklearn/metrics/_classification.py:1565: UndefinedMetricWarning: Precision is ill-defined and being set to 0.0 in labels with no predicted samples. Use `zero_division` parameter to control this behavior.\n",
            "  _warn_prf(average, modifier, f\"{metric.capitalize()} is\", len(result))\n",
            "/usr/local/lib/python3.11/dist-packages/sklearn/metrics/_classification.py:1565: UndefinedMetricWarning: Precision is ill-defined and being set to 0.0 in labels with no predicted samples. Use `zero_division` parameter to control this behavior.\n",
            "  _warn_prf(average, modifier, f\"{metric.capitalize()} is\", len(result))\n",
            "/usr/local/lib/python3.11/dist-packages/sklearn/metrics/_classification.py:1565: UndefinedMetricWarning: Precision is ill-defined and being set to 0.0 in labels with no predicted samples. Use `zero_division` parameter to control this behavior.\n",
            "  _warn_prf(average, modifier, f\"{metric.capitalize()} is\", len(result))\n"
          ]
        }
      ],
      "source": [
        "def evaluate_model(model, X, y):\n",
        "    \"\"\"\n",
        "    Evaluate the model on the dataset and print the classification report.\n",
        "\n",
        "    Args:\n",
        "        model: The fine-tuned model\n",
        "        X: numpy array of shape (n_samples, 28, 28, 1) - rasterized images\n",
        "        y: numpy array of shape (n_samples, 10) - one-hot encoded labels\n",
        "    \"\"\"\n",
        "    # Predict classes\n",
        "    y_pred = model.predict(X)\n",
        "    y_pred_classes = np.argmax(y_pred, axis=1)\n",
        "    y_true_classes = np.argmax(y, axis=1)\n",
        "\n",
        "    # Print classification report\n",
        "    report = classification_report(y_true_classes, y_pred_classes)\n",
        "    print(report)\n",
        "\n",
        "    return report\n",
        "\n",
        "# Evaluate the model\n",
        "print(\"Evaluating model...\")\n",
        "report = evaluate_model(model, X, y)"
      ]
    },
    {
      "cell_type": "markdown",
      "metadata": {
        "id": "qFYIa6PdD_TV"
      },
      "source": [
        "## Save the Fine-tuned Model\n",
        "\n",
        "Save the fine-tuned model for later use in Arduino deployment."
      ]
    },
    {
      "cell_type": "code",
      "execution_count": null,
      "metadata": {
        "colab": {
          "base_uri": "https://localhost:8080/"
        },
        "id": "qkwQX7ZiD_TV",
        "outputId": "8721468d-b5a0-422b-f504-f4e714421cde"
      },
      "outputs": [
        {
          "output_type": "stream",
          "name": "stdout",
          "text": [
            "Fine-tuned model saved to fine_tuned_model.keras\n"
          ]
        }
      ],
      "source": [
        "# Save the fine-tuned model\n",
        "model.save('fine_tuned_model.keras')\n",
        "print(\"Fine-tuned model saved to fine_tuned_model.keras\")\n"
      ]
    },
    {
      "cell_type": "code",
      "source": [
        "model = tf.keras.models.load_model('fine_tuned_model.keras')\n",
        "# Convert with int8 quantization\n",
        "converter = tf.lite.TFLiteConverter.from_keras_model(model)\n",
        "converter.optimizations = [tf.lite.Optimize.DEFAULT]\n",
        "converter.target_spec.supported_types = [tf.int8]\n",
        "\n",
        "# Representative dataset with correct input shape\n",
        "def representative_dataset():\n",
        "    # Your model expects (batch_size, 28, 28, 1) - MNIST-like images\n",
        "    for _ in range(100):\n",
        "        # Generate random data matching your input shape\n",
        "        yield [np.random.random((1, 28, 28, 1)).astype(np.float32)]\n",
        "\n",
        "converter.representative_dataset = representative_dataset\n",
        "converter.inference_input_type = tf.int8\n",
        "converter.inference_output_type = tf.int8\n",
        "\n",
        "# Convert\n",
        "tflite_model_int8 = converter.convert()\n",
        "\n",
        "# Save\n",
        "with open('model_int8.tflite', 'wb') as f:\n",
        "    f.write(tflite_model_int8)\n",
        "\n",
        "print(\"Int8 quantized model saved successfully!\")"
      ],
      "metadata": {
        "colab": {
          "base_uri": "https://localhost:8080/"
        },
        "id": "iPGd-VzFIoXX",
        "outputId": "a120bfe6-c6bb-489c-aa2c-999354f8a91c"
      },
      "execution_count": null,
      "outputs": [
        {
          "output_type": "stream",
          "name": "stdout",
          "text": [
            "Saved artifact at '/tmp/tmp6b_1rle0'. The following endpoints are available:\n",
            "\n",
            "* Endpoint 'serve'\n",
            "  args_0 (POSITIONAL_ONLY): TensorSpec(shape=(None, 28, 28, 1), dtype=tf.float32, name='input_layer_1')\n",
            "Output Type:\n",
            "  TensorSpec(shape=(None, 10), dtype=tf.float32, name=None)\n",
            "Captures:\n",
            "  131967269163024: TensorSpec(shape=(), dtype=tf.resource, name=None)\n",
            "  131967269165328: TensorSpec(shape=(), dtype=tf.resource, name=None)\n",
            "  131967163098768: TensorSpec(shape=(), dtype=tf.resource, name=None)\n",
            "  131967163099152: TensorSpec(shape=(), dtype=tf.resource, name=None)\n",
            "  131967163090320: TensorSpec(shape=(), dtype=tf.resource, name=None)\n",
            "  131967163099344: TensorSpec(shape=(), dtype=tf.resource, name=None)\n",
            "  131967163090704: TensorSpec(shape=(), dtype=tf.resource, name=None)\n",
            "  131967163096080: TensorSpec(shape=(), dtype=tf.resource, name=None)\n",
            "  131967163095888: TensorSpec(shape=(), dtype=tf.resource, name=None)\n",
            "  131967163096656: TensorSpec(shape=(), dtype=tf.resource, name=None)\n",
            "  131967163098384: TensorSpec(shape=(), dtype=tf.resource, name=None)\n",
            "  131967163096272: TensorSpec(shape=(), dtype=tf.resource, name=None)\n",
            "  131967163096848: TensorSpec(shape=(), dtype=tf.resource, name=None)\n",
            "  131967163093392: TensorSpec(shape=(), dtype=tf.resource, name=None)\n",
            "  131967163093200: TensorSpec(shape=(), dtype=tf.resource, name=None)\n",
            "  131967163093968: TensorSpec(shape=(), dtype=tf.resource, name=None)\n",
            "  131967163095120: TensorSpec(shape=(), dtype=tf.resource, name=None)\n",
            "  131967163093584: TensorSpec(shape=(), dtype=tf.resource, name=None)\n",
            "  131967163092048: TensorSpec(shape=(), dtype=tf.resource, name=None)\n",
            "  131967163100112: TensorSpec(shape=(), dtype=tf.resource, name=None)\n",
            "Int8 quantized model saved successfully!\n"
          ]
        },
        {
          "output_type": "stream",
          "name": "stderr",
          "text": [
            "/usr/local/lib/python3.11/dist-packages/tensorflow/lite/python/convert.py:997: UserWarning: Statistics for quantized inputs were expected, but not specified; continuing anyway.\n",
            "  warnings.warn(\n"
          ]
        }
      ]
    }
  ],
  "metadata": {
    "kernelspec": {
      "display_name": "Python 3",
      "language": "python",
      "name": "python3"
    },
    "language_info": {
      "codemirror_mode": {
        "name": "ipython",
        "version": 3
      },
      "file_extension": ".py",
      "mimetype": "text/x-python",
      "name": "python",
      "nbconvert_exporter": "python",
      "pygments_lexer": "ipython3",
      "version": "3.11.0"
    },
    "colab": {
      "provenance": []
    }
  },
  "nbformat": 4,
  "nbformat_minor": 0
}